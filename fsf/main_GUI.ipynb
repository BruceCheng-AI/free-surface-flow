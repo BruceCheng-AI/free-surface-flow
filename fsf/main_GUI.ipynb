{
 "cells": [
  {
   "cell_type": "code",
   "execution_count": 1,
   "metadata": {},
   "outputs": [],
   "source": [
    "from IPython.core.display import HTML\n",
    "import ipywidgets as widgets\n",
    "from IPython.display import display, clear_output\n",
    "import fsf_input\n",
    "import fsf_engine\n",
    "import os \n",
    "import fsf_gif\n",
    "import matplotlib.pyplot as plt\n",
    "from IPython.display import display, clear_output\n",
    "import ipywidgets as widgets\n",
    "import matplotlib.animation as animation"
   ]
  },
  {
   "cell_type": "markdown",
   "metadata": {},
   "source": [
    "# 一维浅水波方程仿真程序\n",
    "![问题情景](problem_position.png)"
   ]
  },
  {
   "cell_type": "markdown",
   "metadata": {},
   "source": [
    "## 1.计算核心"
   ]
  },
  {
   "cell_type": "code",
   "execution_count": 2,
   "metadata": {},
   "outputs": [
    {
     "data": {
      "application/vnd.jupyter.widget-view+json": {
       "model_id": "e24d82dc6d3b4ee2bf75027fd298b8ef",
       "version_major": 2,
       "version_minor": 0
      },
      "text/plain": [
       "HBox(children=(Dropdown(description='Dataset:', layout=Layout(border_bottom='solid 1px black', border_left='so…"
      ]
     },
     "metadata": {},
     "output_type": "display_data"
    },
    {
     "data": {
      "application/vnd.jupyter.widget-view+json": {
       "model_id": "37e16d83310842ffa95a66f981d153ea",
       "version_major": 2,
       "version_minor": 0
      },
      "text/plain": [
       "Output()"
      ]
     },
     "metadata": {},
     "output_type": "display_data"
    },
    {
     "data": {
      "application/vnd.jupyter.widget-view+json": {
       "model_id": "46a6a146273642d391efd0e56411320a",
       "version_major": 2,
       "version_minor": 0
      },
      "text/plain": [
       "Output(layout=Layout(border_bottom='solid 2px black', border_left='solid 2px black', border_right='solid 2px b…"
      ]
     },
     "metadata": {},
     "output_type": "display_data"
    }
   ],
   "source": [
    "# Declare these variables at the top level to make them globally accessible\n",
    "Q, H, X_series, T_series = None, None, None, None\n",
    "\n",
    "def start_calculation(selected_file, chosen_method):\n",
    "    global Q, H, X_series, T_series  # Declare them as global inside this function\n",
    "    with result_output:  # Redirect all prints and outputs inside this block to result_output\n",
    "        clear_output(wait=True)  # Clear the previous output\n",
    "        \n",
    "        # The rest of the function remains unchanged\n",
    "        if not selected_file:\n",
    "            print(\"No file selected. Please select a dataset.\")\n",
    "            return\n",
    "\n",
    "        if not chosen_method:\n",
    "            print(\"No calculation method selected. Please choose a method.\")\n",
    "            return\n",
    "\n",
    "        flag_method = 1 if chosen_method == \"matrix_inv\" else 2\n",
    "        filename = f\"../inputs/{selected_file}\"\n",
    "        read_data = fsf_input.read(filename)        \n",
    "        read_data.append(flag_method)\n",
    "\n",
    "        try:\n",
    "            [Q, H, X_series, T_series] = fsf_engine.calculation(read_data)\n",
    "            print(f\"Calculation completed for {selected_file} using {chosen_method}.\")\n",
    "            print(f\"Shape of Q: {Q.shape}\")\n",
    "        except Exception as e:\n",
    "            print(f\"Error occurred during calculation: {str(e)}\")\n",
    "\n",
    "# Create an output widget with a border for the calculation results\n",
    "result_output = widgets.Output(layout=widgets.Layout(border='solid 2px black', padding='10px', margin='10px'))\n",
    "\n",
    "# Create widgets with enhanced styling\n",
    "button_layout = widgets.Layout(width='250px', height='50px', border='solid 1px black', color='lightblue')\n",
    "\n",
    "file_combobox = widgets.Dropdown(\n",
    "    options=[f for f in os.listdir('../inputs/') if os.path.isfile(os.path.join('../inputs/', f))],\n",
    "    description=\"Dataset:\",\n",
    "    layout=button_layout\n",
    ")\n",
    "\n",
    "method_dropdown = widgets.Dropdown(\n",
    "    options=[\"matrix_inv\", \"double_sweep\"],\n",
    "    description=\"Method:\",\n",
    "    layout=button_layout\n",
    ")\n",
    "\n",
    "start_button = widgets.Button(\n",
    "    description=\"Start Calculation\",\n",
    "    layout=button_layout\n",
    ")\n",
    "\n",
    "output = widgets.Output()\n",
    "\n",
    "# Display widgets in a VBox with spacing and alignment to center\n",
    "# Display widgets in an HBox with increased spacing and alignment to center\n",
    "main_box = widgets.HBox(\n",
    "    [file_combobox, method_dropdown, start_button], \n",
    "    layout=widgets.Layout(align_items='center', justify_content='center', padding='20px', spacing='50px')  # Increased padding and spacing\n",
    ")\n",
    "display(main_box)\n",
    "display(output)\n",
    "display(result_output)  # Display the result output below the main box\n",
    "\n",
    "# Define button actions\n",
    "def on_button_click(button):\n",
    "    with output:\n",
    "        clear_output(wait=True)\n",
    "        start_calculation(file_combobox.value, method_dropdown.value)\n",
    "\n",
    "start_button.on_click(on_button_click)"
   ]
  },
  {
   "cell_type": "markdown",
   "metadata": {},
   "source": [
    "# 2.流量动画"
   ]
  },
  {
   "cell_type": "code",
   "execution_count": 3,
   "metadata": {},
   "outputs": [
    {
     "data": {
      "application/vnd.jupyter.widget-view+json": {
       "model_id": "a3552f368a9444df94635baaaab3e878",
       "version_major": 2,
       "version_minor": 0
      },
      "text/plain": [
       "VBox(children=(VBox(children=(Button(description='Generate Discharge Animation', layout=Layout(border_bottom='…"
      ]
     },
     "metadata": {},
     "output_type": "display_data"
    }
   ],
   "source": [
    "def process(N, label, title, Y, X_series, ax):\n",
    "    ax.set_xlabel('Distance (m)', size=12)\n",
    "    ax.set_ylabel(label, size=12)\n",
    "    ax.set_title(title, size=14)\n",
    "    ims = []\n",
    "    for n in range(N):\n",
    "        im, = ax.plot(X_series, Y[10*n], animated=True)\n",
    "        ims.append([im])\n",
    "    ani = animation.ArtistAnimation(ax.figure, ims, interval=200, repeat_delay=1000, blit=True)\n",
    "    return ani\n",
    "\n",
    "# Define the output widget for discharge with centered alignment\n",
    "output_widget_discharge = widgets.Output(layout=widgets.Layout(height='300px', align_items='center'))\n",
    "\n",
    "def generate_discharge_animation(button):\n",
    "    # Clear the previous animations\n",
    "    with output_widget_discharge:\n",
    "        clear_output(wait=True)\n",
    "        \n",
    "        fig, ax = plt.subplots(figsize=(8, 2))\n",
    "        ax.set_xlim(min(X_series), max(X_series))\n",
    "        ax.set_ylim(min(Q.flatten()), max(Q.flatten()))\n",
    "        \n",
    "        N = int(len(T_series)/10)\n",
    "        ani = process(N, 'Discharge (m^3/s)', 'Discharge changing with distance', Q, X_series, ax)\n",
    "        display(HTML(ani.to_jshtml()))\n",
    "        plt.close(fig)\n",
    "button_layout = widgets.Layout(width='250px', height='50px', border='solid 1px black', color='lightblue')\n",
    "\n",
    "# Button styling for discharge\n",
    "generate_discharge_button = widgets.Button(\n",
    "    description=\"Generate Discharge Animation\", \n",
    "    layout=button_layout, \n",
    "    style={'button_color': 'lightgray'}\n",
    ")\n",
    "generate_discharge_button.on_click(generate_discharge_animation)\n",
    "\n",
    "# Placeholder empty plot for discharge\n",
    "with output_widget_discharge:\n",
    "    fig, ax = plt.subplots(figsize=(8, 4))\n",
    "    ax.axis('off')\n",
    "    plt.close(fig)\n",
    "\n",
    "# Box for discharge button and output\n",
    "box_discharge = widgets.VBox([generate_discharge_button, output_widget_discharge], layout=widgets.Layout(align_items='center'))\n",
    "\n",
    "# Surrounding box layout with border\n",
    "surrounding_layout = widgets.Layout(\n",
    "    border='solid 2px black', \n",
    "    padding='10px', \n",
    "    align_items='center',\n",
    "    width='80%',  # Set this to control the width of the surrounding box\n",
    "    margin='auto'  # Center the surrounding box\n",
    ")\n",
    "# Surrounding box for discharge\n",
    "surrounding_box_discharge = widgets.VBox([box_discharge], layout=surrounding_layout)\n",
    "display(surrounding_box_discharge)\n",
    "\n",
    "\n"
   ]
  },
  {
   "cell_type": "markdown",
   "metadata": {},
   "source": [
    "# 3.水位动画"
   ]
  },
  {
   "cell_type": "code",
   "execution_count": 4,
   "metadata": {},
   "outputs": [
    {
     "data": {
      "application/vnd.jupyter.widget-view+json": {
       "model_id": "66dce98c3fef415d86d9092973f8b304",
       "version_major": 2,
       "version_minor": 0
      },
      "text/plain": [
       "VBox(children=(VBox(children=(Button(description='Generate Water Level Animation', layout=Layout(border_bottom…"
      ]
     },
     "metadata": {},
     "output_type": "display_data"
    }
   ],
   "source": [
    "# Define the output widget for water level with centered alignment\n",
    "output_widget_wl = widgets.Output(layout=widgets.Layout(height='300px', align_items='center'))\n",
    "\n",
    "def generate_water_level_animation(button):\n",
    "    with output_widget_wl:\n",
    "        clear_output(wait=True)\n",
    "        \n",
    "        fig, ax = plt.subplots(figsize=(8, 2))\n",
    "        ax.set_xlim(min(X_series), max(X_series))\n",
    "        ax.set_ylim(min(H.flatten()), max(H.flatten()))\n",
    "        \n",
    "        N = int(len(T_series)/10)\n",
    "        ani = process(N, 'Water level (m)', 'Water level changing with distance', H, X_series, ax)\n",
    "        display(HTML(ani.to_jshtml()))\n",
    "        plt.close(fig)\n",
    "\n",
    "# Button styling for water level\n",
    "generate_wl_button = widgets.Button(\n",
    "    description=\"Generate Water Level Animation\", \n",
    "    layout=button_layout, \n",
    "    style={'button_color': 'lightgray'}\n",
    ")\n",
    "generate_wl_button.on_click(generate_water_level_animation)\n",
    "\n",
    "# Placeholder empty plot for water level\n",
    "with output_widget_wl:\n",
    "    fig, ax = plt.subplots(figsize=(8, 4))\n",
    "    ax.axis('off')\n",
    "    plt.close(fig)\n",
    "\n",
    "# Box for water level button and output\n",
    "box_wl = widgets.VBox([generate_wl_button, output_widget_wl], layout=widgets.Layout(align_items='center'))\n",
    "\n",
    "# Surrounding box for water level\n",
    "surrounding_box_wl = widgets.VBox([box_wl], layout=surrounding_layout)\n",
    "display(surrounding_box_wl)\n"
   ]
  },
  {
   "cell_type": "code",
   "execution_count": null,
   "metadata": {},
   "outputs": [],
   "source": []
  }
 ],
 "metadata": {
  "kernelspec": {
   "display_name": "base",
   "language": "python",
   "name": "python3"
  },
  "language_info": {
   "codemirror_mode": {
    "name": "ipython",
    "version": 3
   },
   "file_extension": ".py",
   "mimetype": "text/x-python",
   "name": "python",
   "nbconvert_exporter": "python",
   "pygments_lexer": "ipython3",
   "version": "3.11.5"
  }
 },
 "nbformat": 4,
 "nbformat_minor": 2
}
